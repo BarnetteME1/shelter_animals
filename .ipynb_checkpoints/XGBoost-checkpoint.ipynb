{
 "cells": [
  {
   "cell_type": "code",
   "execution_count": 1,
   "metadata": {
    "collapsed": true
   },
   "outputs": [],
   "source": [
    "import numpy as np\n",
    "import pandas as pd\n",
    "import xgboost as xgb\n",
    "from sklearn.preprocessing import LabelEncoder\n",
    "from sklearn.cross_validation import train_test_split\n",
    "le = LabelEncoder()"
   ]
  },
  {
   "cell_type": "code",
   "execution_count": 2,
   "metadata": {
    "collapsed": true
   },
   "outputs": [],
   "source": [
    "def label_encode_dataset(dataset):\n",
    "    for column in dataset.columns.values:\n",
    "        dataset[column] = dataset[column].astype(str)\n",
    "        le.fit(y=dataset[column])\n",
    "        dataset[column] = le.transform(dataset[column])\n",
    "    return dataset"
   ]
  },
  {
   "cell_type": "code",
   "execution_count": 3,
   "metadata": {
    "collapsed": false
   },
   "outputs": [
    {
     "name": "stderr",
     "output_type": "stream",
     "text": [
      "/Users/MatthewBarnette/shelter_animals/.direnv/python-3.5.0/lib/python3.5/site-packages/ipykernel/__main__.py:3: SettingWithCopyWarning: \n",
      "A value is trying to be set on a copy of a slice from a DataFrame.\n",
      "Try using .loc[row_indexer,col_indexer] = value instead\n",
      "\n",
      "See the caveats in the documentation: http://pandas.pydata.org/pandas-docs/stable/indexing.html#indexing-view-versus-copy\n",
      "  app.launch_new_instance()\n",
      "/Users/MatthewBarnette/shelter_animals/.direnv/python-3.5.0/lib/python3.5/site-packages/ipykernel/__main__.py:5: SettingWithCopyWarning: \n",
      "A value is trying to be set on a copy of a slice from a DataFrame.\n",
      "Try using .loc[row_indexer,col_indexer] = value instead\n",
      "\n",
      "See the caveats in the documentation: http://pandas.pydata.org/pandas-docs/stable/indexing.html#indexing-view-versus-copy\n"
     ]
    }
   ],
   "source": [
    "#import the data I need\n",
    "test_data = pd.read_csv('csv_files/test.csv')\n",
    "animal_data = pd.read_csv('csv_files/train.csv')\n",
    "\n",
    "#Drop columns that I don't need\n",
    "animal_data = animal_data.drop(labels=['AnimalID', 'Name', 'DateTime', 'OutcomeSubtype'], axis=1)\n",
    "\n",
    "#setting up the test data\n",
    "test_index = test_data.ID\n",
    "test_data = test_data.drop(labels=['ID', 'Name', 'DateTime'], axis=1)\n",
    "test_data = label_encode_dataset(test_data)\n",
    "\n",
    "#splitting up the training data so I can use it to test how well my predictions are coming along\n",
    "train_animal_data, test_animal_data = train_test_split(animal_data, test_size= .25, random_state=53)\n",
    "\n",
    "#since the evaluation for this kaggle competition will be in multi-class logloss I've popped the outcomes off of the\n",
    "#dataset and changed the results into dummy variables\n",
    "outcome_train_animal_data = train_animal_data.pop('OutcomeType')\n",
    "le.fit(outcome_train_animal_data)\n",
    "outcome_train_animal_data = le.transform(outcome_train_animal_data)\n",
    "\n",
    "#repeat for the test data\n",
    "outcome_test_animal_data = test_animal_data.pop('OutcomeType')\n",
    "le.fit(outcome_test_animal_data)\n",
    "outcome_test_animal_data = le.transform(outcome_test_animal_data)\n",
    "\n",
    "train_animal_data = label_encode_dataset(train_animal_data)\n",
    "test_animal_data = label_encode_dataset(test_animal_data)"
   ]
  },
  {
   "cell_type": "code",
   "execution_count": 4,
   "metadata": {
    "collapsed": false
   },
   "outputs": [],
   "source": [
    "dtrain = xgb.DMatrix(train_animal_data, label=outcome_train_animal_data)\n",
    "dtest = xgb.DMatrix(test_animal_data, label=outcome_test_animal_data)"
   ]
  },
  {
   "cell_type": "code",
   "execution_count": 5,
   "metadata": {
    "collapsed": true
   },
   "outputs": [],
   "source": [
    "parm = {'bst:max_depth':1, 'bst:eta':1, 'silent':3, 'objective':'multi:softprob', 'num_class':5, 'max_delta_step':2}\n",
    "parm['nthread'] = 4\n",
    "parm['eval_metric'] = 'mlogloss'"
   ]
  },
  {
   "cell_type": "code",
   "execution_count": 6,
   "metadata": {
    "collapsed": true
   },
   "outputs": [],
   "source": [
    "evallist = [(dtrain,'train'), (dtest,'eval')]"
   ]
  },
  {
   "cell_type": "code",
   "execution_count": 7,
   "metadata": {
    "collapsed": false
   },
   "outputs": [
    {
     "name": "stderr",
     "output_type": "stream",
     "text": [
      "Will train until eval error hasn't decreased in 3 rounds.\n",
      "[0]\ttrain-mlogloss:1.160471\teval-mlogloss:1.172114\n",
      "[1]\ttrain-mlogloss:1.051350\teval-mlogloss:1.064836\n",
      "[2]\ttrain-mlogloss:1.017548\teval-mlogloss:1.032481\n",
      "[3]\ttrain-mlogloss:1.000159\teval-mlogloss:1.016694\n",
      "[4]\ttrain-mlogloss:0.987283\teval-mlogloss:1.006241\n",
      "[5]\ttrain-mlogloss:0.978141\teval-mlogloss:0.996914\n",
      "[6]\ttrain-mlogloss:0.972597\teval-mlogloss:0.992939\n",
      "[7]\ttrain-mlogloss:0.968765\teval-mlogloss:0.989346\n",
      "[8]\ttrain-mlogloss:0.965750\teval-mlogloss:0.987218\n",
      "[9]\ttrain-mlogloss:0.962387\teval-mlogloss:0.983450\n",
      "[10]\ttrain-mlogloss:0.959825\teval-mlogloss:0.981719\n",
      "[11]\ttrain-mlogloss:0.956983\teval-mlogloss:0.978535\n",
      "[12]\ttrain-mlogloss:0.954717\teval-mlogloss:0.978012\n",
      "[13]\ttrain-mlogloss:0.952774\teval-mlogloss:0.977539\n",
      "[14]\ttrain-mlogloss:0.951135\teval-mlogloss:0.976389\n",
      "[15]\ttrain-mlogloss:0.949459\teval-mlogloss:0.975701\n",
      "[16]\ttrain-mlogloss:0.947103\teval-mlogloss:0.972953\n",
      "[17]\ttrain-mlogloss:0.945513\teval-mlogloss:0.972225\n",
      "[18]\ttrain-mlogloss:0.943843\teval-mlogloss:0.970123\n",
      "[19]\ttrain-mlogloss:0.942583\teval-mlogloss:0.969710\n",
      "[20]\ttrain-mlogloss:0.941198\teval-mlogloss:0.967855\n",
      "[21]\ttrain-mlogloss:0.939894\teval-mlogloss:0.966978\n",
      "[22]\ttrain-mlogloss:0.938715\teval-mlogloss:0.966538\n",
      "[23]\ttrain-mlogloss:0.937635\teval-mlogloss:0.965625\n",
      "[24]\ttrain-mlogloss:0.936748\teval-mlogloss:0.965143\n",
      "[25]\ttrain-mlogloss:0.935751\teval-mlogloss:0.964124\n",
      "[26]\ttrain-mlogloss:0.934901\teval-mlogloss:0.964729\n",
      "[27]\ttrain-mlogloss:0.934060\teval-mlogloss:0.964049\n",
      "[28]\ttrain-mlogloss:0.933126\teval-mlogloss:0.965165\n",
      "[29]\ttrain-mlogloss:0.932168\teval-mlogloss:0.963568\n",
      "[30]\ttrain-mlogloss:0.931366\teval-mlogloss:0.963388\n",
      "[31]\ttrain-mlogloss:0.930461\teval-mlogloss:0.962073\n",
      "[32]\ttrain-mlogloss:0.929807\teval-mlogloss:0.962088\n",
      "[33]\ttrain-mlogloss:0.929044\teval-mlogloss:0.961154\n",
      "[34]\ttrain-mlogloss:0.928311\teval-mlogloss:0.964762\n",
      "[35]\ttrain-mlogloss:0.927561\teval-mlogloss:0.963889\n",
      "[36]\ttrain-mlogloss:0.926952\teval-mlogloss:0.963704\n",
      "Stopping. Best iteration:\n",
      "[33]\ttrain-mlogloss:0.929044\teval-mlogloss:0.961154\n",
      "\n"
     ]
    }
   ],
   "source": [
    "num_round = 100\n",
    "bst = xgb.train(parm, dtrain, num_round, evallist, early_stopping_rounds=3)"
   ]
  },
  {
   "cell_type": "code",
   "execution_count": 8,
   "metadata": {
    "collapsed": false
   },
   "outputs": [
    {
     "name": "stderr",
     "output_type": "stream",
     "text": [
      "/Users/MatthewBarnette/shelter_animals/.direnv/python-3.5.0/lib/python3.5/site-packages/xgboost/core.py:840: VisibleDeprecationWarning: using a non-integer number instead of an integer will result in an error in the future\n",
      "  preds = preds.reshape(nrow, preds.size / nrow)\n"
     ]
    }
   ],
   "source": [
    "dtest = xgb.DMatrix(test_data)\n",
    "ypred = bst.predict(dtest, output_margin=False)"
   ]
  },
  {
   "cell_type": "code",
   "execution_count": 9,
   "metadata": {
    "collapsed": false
   },
   "outputs": [],
   "source": [
    "ypred = pd.DataFrame(ypred)\n",
    "ypred = ypred.rename(columns={0: 'Adoption', 1:'Died', 2:'Euthanasia', 3:'Return_to_owner', 4:'Transfer'})\n",
    "ypred.index = test_index"
   ]
  },
  {
   "cell_type": "code",
   "execution_count": 10,
   "metadata": {
    "collapsed": false
   },
   "outputs": [],
   "source": [
    "ypred.to_csv('Predictions/XGBoost.csv')"
   ]
  }
 ],
 "metadata": {
  "kernelspec": {
   "display_name": "Python 3",
   "language": "python",
   "name": "python3"
  },
  "language_info": {
   "codemirror_mode": {
    "name": "ipython",
    "version": 3
   },
   "file_extension": ".py",
   "mimetype": "text/x-python",
   "name": "python",
   "nbconvert_exporter": "python",
   "pygments_lexer": "ipython3",
   "version": "3.5.0"
  }
 },
 "nbformat": 4,
 "nbformat_minor": 0
}
